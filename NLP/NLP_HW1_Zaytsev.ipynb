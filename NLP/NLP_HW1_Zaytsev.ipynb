{
 "cells": [
  {
   "cell_type": "markdown",
   "metadata": {},
   "source": [
    "###ML1_1: \n",
    "https://www.hackerrank.com/challenges/capturing-non-capturing-groups/problem?isFullScreen=true"
   ]
  },
  {
   "cell_type": "code",
   "execution_count": null,
   "metadata": {},
   "outputs": [],
   "source": [
    "# Regex_Pattern = r'(ok){3}'"
   ]
  },
  {
   "cell_type": "markdown",
   "metadata": {},
   "source": [
    "###ML1_2: \n",
    "https://www.hackerrank.com/challenges/branch-reset-groups/problem?isFullScreen=true"
   ]
  },
  {
   "cell_type": "code",
   "execution_count": null,
   "metadata": {},
   "outputs": [],
   "source": [
    "# $Regex_Pattern = '^\\d{2}(?|(---)|(-)|(.)|(:))\\d{2}\\1\\d{2}\\1\\d{2}$';"
   ]
  },
  {
   "cell_type": "markdown",
   "metadata": {},
   "source": [
    "###ML1_3: \n",
    "https://www.hackerrank.com/challenges/detect-html-links/problem?isFullScreen=true"
   ]
  },
  {
   "cell_type": "code",
   "execution_count": 17,
   "metadata": {},
   "outputs": [
    {
     "name": "stdout",
     "output_type": "stream",
     "text": [
      "2\n",
      "<p><a href=\"http://www.quackit.com/html/tutorial/html_links.cfm\">Example Link</a></p>\n",
      "http://www.quackit.com/html/tutorial/html_links.cfm,Example Link\n",
      "<div class=\"more-info\"><a href=\"http://www.quackit.com/html/examples/html_links_examples.cfm\">More Link Examples...</a></div>\n",
      "http://www.quackit.com/html/examples/html_links_examples.cfm,More Link Examples...\n"
     ]
    }
   ],
   "source": [
    "import re\n",
    "Regex_Pattern = r'(?<=<a href=\")([^\"]+)\".*?>([^<]*)(?=</)'\n",
    "\n",
    "for i in range(int(input())):\n",
    "    matches = re.findall(Regex_Pattern, str(input()))\n",
    "    if matches:\n",
    "        for match in matches:\n",
    "            print(match[0],match[1].strip(),sep=',')"
   ]
  }
 ],
 "metadata": {
  "colab": {
   "name": "NLP1_homework",
   "provenance": [],
   "toc_visible": true
  },
  "kernelspec": {
   "display_name": "Python 3 (ipykernel)",
   "language": "python",
   "name": "python3"
  },
  "language_info": {
   "codemirror_mode": {
    "name": "ipython",
    "version": 3
   },
   "file_extension": ".py",
   "mimetype": "text/x-python",
   "name": "python",
   "nbconvert_exporter": "python",
   "pygments_lexer": "ipython3",
   "version": "3.12.1"
  }
 },
 "nbformat": 4,
 "nbformat_minor": 4
}
